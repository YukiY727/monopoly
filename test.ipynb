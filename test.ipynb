{
 "cells": [
  {
   "cell_type": "code",
   "execution_count": 1,
   "id": "9b3a30c0",
   "metadata": {},
   "outputs": [],
   "source": [
    "from __future__ import annotations"
   ]
  },
  {
   "cell_type": "code",
   "execution_count": 2,
   "id": "526d3765",
   "metadata": {},
   "outputs": [],
   "source": [
    "def query_yes_no(question, default=\"yes\"):\n",
    "    \"\"\"質問(yes/no)の回答をBool値で出力\n",
    "\n",
    "    Args:\n",
    "        question (str): 標準出力する質問文\n",
    "        default (str, optional): 回答のデフォルト. Defaults to \"yes\".\n",
    "\n",
    "    Raises:\n",
    "        ValueError: 変数defaultにNone, \"yes\", \"no\"以外の値が入ったときのエラー\n",
    "\n",
    "    Returns:\n",
    "        bool: 質問への回答yes/noをTrue/Falseとして返す\n",
    "    \"\"\"\n",
    "    if default is None:\n",
    "        prompt = \" [y/n] \"\n",
    "    elif default == \"yes\":\n",
    "        prompt = \" [Y/n] \"\n",
    "    elif default == \"no\":\n",
    "        prompt = \" [y/N] \"\n",
    "    else:\n",
    "        raise ValueError(\"invalid default answer: '%s'\" % default)\n",
    "\n",
    "    while True:\n",
    "        print(question + prompt)\n",
    "        choice = input().lower()\n",
    "        if \"yes\".startswith(choice):\n",
    "            return True\n",
    "        elif \"no\".startswith(choice):\n",
    "            return False\n",
    "        else:\n",
    "            print(\"Please respond with 'yes' or 'no' \"\n",
    "                  \"(or 'y' or 'n').\\n\")"
   ]
  },
  {
   "cell_type": "code",
   "execution_count": 3,
   "id": "4f416e56",
   "metadata": {},
   "outputs": [],
   "source": [
    "class Board:\n",
    "\n",
    "    def __init__(self, members: list[Player]):\n",
    "        self.members = members\n",
    "        self.members_name = [member.name for member in members]\n",
    "        self.name_member_mapping = {\n",
    "            name: player\n",
    "            for name, player in zip(self.members_name, self.members)\n",
    "        }"
   ]
  },
  {
   "cell_type": "code",
   "execution_count": 4,
   "id": "0f82c68d",
   "metadata": {},
   "outputs": [],
   "source": [
    "class Land:\n",
    "\n",
    "    def __init__(self, name: str, price: int, rental_price: int, kind: str):\n",
    "        self.name = name\n",
    "        self.price = price\n",
    "        self.is_own = False\n",
    "        self.owner = None\n",
    "        self.is_mortgage = False\n",
    "        self.rental_price = rental_price\n",
    "        self.kind = kind\n",
    "\n",
    "\n",
    "    def be_bought(self, plyer: Player, board: Board):\n",
    "        answer = query_yes_no(f'Would you buy this land for {self.price} ?')\n",
    "        if answer:\n",
    "            if self.kind == 'building':\n",
    "                plyer.buildings.append(self)\n",
    "            elif self.kind == 'train':\n",
    "                plyer.train.append(self)\n",
    "            elif self.kind == 'public_business':\n",
    "                plyer.public_business.append(self)\n",
    "            self.owner = plyer\n",
    "            plyer.money -= self.price\n",
    "        else:\n",
    "            self.auction(board)\n",
    "\n",
    "    def auction(self, board: Board):\n",
    "        auction_price = None\n",
    "        while True:\n",
    "            print(\n",
    "                f'{self.name} is now for sale. Please include your user name and the amount you can offer\\n'\n",
    "            )\n",
    "            username = input('Enter your name: ')\n",
    "            # TODO:usernameを間違えると'Please enter...が出続ける点の修正'\n",
    "            while username not in board.members_name:\n",
    "                username = input('Please enter the correct username')\n",
    "            user = board.name_member_mapping[username]\n",
    "            offered_price = int(input(\"Enter a price you can offer: \"))\n",
    "            if auction_price:\n",
    "                if offered_price > auction_price:\n",
    "                    auction_price = offered_price\n",
    "                    self.owner = user\n",
    "                else:\n",
    "                    print(\n",
    "                        'offered price is not higher than the amount offered before\\n'\n",
    "                    )\n",
    "            else:\n",
    "                auction_price = offered_price\n",
    "                self.owner = user\n",
    "            print(\n",
    "                f'{self.name}\\'s price is {auction_price} now (offered by {self.owner.name})\\n'\n",
    "            )\n",
    "            continue_auction = query_yes_no(f'Is there anyone who buys {self.name} at a higher price?\\n')\n",
    "            if not continue_auction:\n",
    "                print(\n",
    "                    f'{self.name} is bought by {self.owner.name} for {auction_price}!'\n",
    "                )\n",
    "                if self.kind == 'building':\n",
    "                    self.owner.buildings.append(self)\n",
    "                elif self.kind == 'train':\n",
    "                    self.owner.train.append(self)\n",
    "                elif self.kind == 'public_business':\n",
    "                    self.owner.public_business.append(self)\n",
    "                self.is_own = True\n",
    "                self.owner.money -= auction_price\n",
    "                break\n",
    "    def cancel_mortgage(self):\n",
    "        self.is_mortgage = False\n",
    "        self.is_own = True\n",
    "        self.owner.money -= round(self.price / 2 * 1.1)\n",
    "        \n",
    "\n",
    "    def put_in_mortgage(self):\n",
    "        self.owner.money += self.price / 2\n",
    "        self.is_own = False\n",
    "        self.is_mortgage = True\n",
    "\n",
    "    def charge_rental(self, user: Player):\n",
    "        user.money -= self.rental_price\n",
    "        self.owner.money += self.rental_price"
   ]
  },
  {
   "cell_type": "code",
   "execution_count": 5,
   "id": "f61720af",
   "metadata": {},
   "outputs": [],
   "source": [
    "class Player:\n",
    "\n",
    "    def __init__(self, name: str):\n",
    "        self.name = name\n",
    "        self.train: list[Train] = []\n",
    "        self.buildings: list[Buildings] = []\n",
    "        self.public_business: list[Public] = []\n",
    "        self.money: int = 1500"
   ]
  },
  {
   "cell_type": "code",
   "execution_count": null,
   "id": "bf7647ec",
   "metadata": {},
   "outputs": [],
   "source": [
    "# class Buildings:\n",
    "#     def __init__(self):"
   ]
  },
  {
   "cell_type": "code",
   "execution_count": null,
   "id": "958de110",
   "metadata": {},
   "outputs": [],
   "source": [
    "# class Train:\n",
    "#     def __init__(self):"
   ]
  },
  {
   "cell_type": "code",
   "execution_count": 6,
   "id": "224b059f",
   "metadata": {},
   "outputs": [],
   "source": [
    "class Public(Land):\n",
    "\n",
    "    def __init__(self, name: str, price: int, kind: str):\n",
    "        super().__init__(name, price, 0, kind)\n",
    "\n",
    "    def be_bought(self, plyer: Player, board: Board):\n",
    "        super().be_bought(plyer, board)\n",
    "\n",
    "    def pay_rental(self, user: Player):\n",
    "        dice = int(input())\n",
    "        #if chance:\n",
    "        #    self.rental_price = dice * 10\n",
    "        #else:\n",
    "\n",
    "        if len(self.owner.public_business) == 2:  # ElectricとWaterworksの所有者が同じ  \n",
    "            self.rental_price = dice * 10\n",
    "        elif len(self.owner.public_business) == 1: # どちらか一つ所有\n",
    "            self.rental_price = dice * 4\n",
    "        user.money -= self.rental_price\n",
    "        self.owner.money += self.rental_price"
   ]
  },
  {
   "cell_type": "code",
   "execution_count": null,
   "id": "9ffe2bfa",
   "metadata": {},
   "outputs": [],
   "source": [
    "# class Chance:\n",
    "#     def __init__(self):"
   ]
  },
  {
   "cell_type": "code",
   "execution_count": null,
   "id": "d79bd406",
   "metadata": {},
   "outputs": [],
   "source": [
    "# class Pool:\n",
    "#     def __init__(self):"
   ]
  },
  {
   "cell_type": "code",
   "execution_count": null,
   "id": "da677ad1",
   "metadata": {},
   "outputs": [],
   "source": []
  },
  {
   "cell_type": "code",
   "execution_count": 7,
   "id": "b7f13e3d",
   "metadata": {},
   "outputs": [],
   "source": [
    "# test\n",
    "yusaku = Player('yusaku')\n",
    "takeshun = Player('takeshun')\n",
    "board = Board([yusaku, takeshun])"
   ]
  },
  {
   "cell_type": "code",
   "execution_count": 8,
   "id": "e91486be",
   "metadata": {},
   "outputs": [],
   "source": [
    "water = Public('test1', 200, 'public_business')\n",
    "elect = Public('test2', 200, 'public_business')"
   ]
  },
  {
   "cell_type": "code",
   "execution_count": 9,
   "id": "a2a4e560",
   "metadata": {},
   "outputs": [
    {
     "name": "stdout",
     "output_type": "stream",
     "text": [
      "Would you buy this land for 200 ? [Y/n] \n",
      "Y\n",
      "Would you buy this land for 200 ? [Y/n] \n",
      "Y\n"
     ]
    }
   ],
   "source": [
    "water.be_bought(yusaku, board)\n",
    "elect.be_bought(yusaku, board)"
   ]
  },
  {
   "cell_type": "code",
   "execution_count": 10,
   "id": "257fe038",
   "metadata": {},
   "outputs": [
    {
     "name": "stdout",
     "output_type": "stream",
     "text": [
      "6\n"
     ]
    }
   ],
   "source": [
    "water.pay_rental(takeshun)"
   ]
  },
  {
   "cell_type": "code",
   "execution_count": null,
   "id": "407eb32b",
   "metadata": {},
   "outputs": [],
   "source": []
  },
  {
   "cell_type": "code",
   "execution_count": null,
   "id": "c9a3fc8e",
   "metadata": {},
   "outputs": [],
   "source": []
  },
  {
   "cell_type": "code",
   "execution_count": null,
   "id": "aed9c28d",
   "metadata": {},
   "outputs": [],
   "source": []
  }
 ],
 "metadata": {
  "kernelspec": {
   "display_name": "Python 3 (ipykernel)",
   "language": "python",
   "name": "python3"
  },
  "language_info": {
   "codemirror_mode": {
    "name": "ipython",
    "version": 3
   },
   "file_extension": ".py",
   "mimetype": "text/x-python",
   "name": "python",
   "nbconvert_exporter": "python",
   "pygments_lexer": "ipython3",
   "version": "3.9.7"
  }
 },
 "nbformat": 4,
 "nbformat_minor": 5
}
